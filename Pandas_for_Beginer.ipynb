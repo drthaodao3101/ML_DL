{
  "nbformat": 4,
  "nbformat_minor": 0,
  "metadata": {
    "colab": {
      "provenance": []
    },
    "kernelspec": {
      "name": "python3",
      "display_name": "Python 3"
    },
    "language_info": {
      "name": "python"
    }
  },
  "cells": [
    {
      "cell_type": "code",
      "execution_count": null,
      "metadata": {
        "id": "fOh7ECoc0aHi"
      },
      "outputs": [],
      "source": [
        "import numpy as np\n",
        "import pandas as pd\n",
        "import matplotlb.pyplot as plt"
      ]
    },
    {
      "cell_type": "markdown",
      "source": [
        "**A. Data Analysis with Dataframe**"
      ],
      "metadata": {
        "id": "zJvzkkPjPgrw"
      }
    },
    {
      "cell_type": "code",
      "source": [
        "dataset_path = 'IMDB-Movie-Data.csv'\n",
        "# Read data from .csv file\n",
        "data = pd.read_csv(dataset_path)\n",
        "# Data with choose 'Title' to do index\n",
        "data_indexed = pd.read_csv(dataset_path, index_col='Title')"
      ],
      "metadata": {
        "id": "CTLuKfd53n6t"
      },
      "execution_count": null,
      "outputs": []
    },
    {
      "cell_type": "code",
      "source": [
        "# Preview top 5 rows\n",
        "data.head()"
      ],
      "metadata": {
        "id": "iwqHV9B04Hm0"
      },
      "execution_count": null,
      "outputs": []
    },
    {
      "cell_type": "code",
      "source": [
        "# Preview bottom 2 rows\n",
        "data.tail(2)"
      ],
      "metadata": {
        "id": "HyDdbfNU5Mil"
      },
      "execution_count": null,
      "outputs": []
    },
    {
      "cell_type": "code",
      "source": [
        "# Getting info about data\n",
        "data.info"
      ],
      "metadata": {
        "id": "ooyYnlUq5VZP"
      },
      "execution_count": null,
      "outputs": []
    },
    {
      "cell_type": "code",
      "source": [
        "# Overview data statistic\n",
        "data.describe"
      ],
      "metadata": {
        "id": "tdXA0kmR5qqM"
      },
      "execution_count": null,
      "outputs": []
    },
    {
      "cell_type": "code",
      "source": [
        "# Shape of data\n",
        "data.shape"
      ],
      "metadata": {
        "id": "dXwTDySU5ewL"
      },
      "execution_count": null,
      "outputs": []
    },
    {
      "cell_type": "markdown",
      "source": [
        "**Data selection** - Indexing and Slicing data"
      ],
      "metadata": {
        "id": "OlEd5OGp6hwI"
      }
    },
    {
      "cell_type": "code",
      "source": [
        "# Extract data as series\n",
        "genre = data['Genre']\n",
        "genre"
      ],
      "metadata": {
        "id": "YNQmGxFO6hBI"
      },
      "execution_count": null,
      "outputs": []
    },
    {
      "cell_type": "code",
      "source": [
        "# Extract data as dataframe\n",
        "data[['Genre']]"
      ],
      "metadata": {
        "id": "zKThRPNc623v"
      },
      "execution_count": null,
      "outputs": []
    },
    {
      "cell_type": "code",
      "source": [
        "# Extract some columns\n",
        "some_cols = data[['Title','Genre','Actors']]"
      ],
      "metadata": {
        "id": "-4PGG6-J69Ev"
      },
      "execution_count": null,
      "outputs": []
    },
    {
      "cell_type": "code",
      "source": [
        "# Extract some rows according columns\n",
        "data.iloc[10:15][['Title','Genre','Actors']]"
      ],
      "metadata": {
        "id": "Q6s08HuC7Wr2"
      },
      "execution_count": null,
      "outputs": []
    },
    {
      "cell_type": "markdown",
      "source": [
        "**Data selection** - Based on Conditional Filtering"
      ],
      "metadata": {
        "id": "1XHsl8as7wD7"
      }
    },
    {
      "cell_type": "code",
      "source": [
        "data[((data['Year'] >= 2010) & (data['Year'] <= 2015))\n",
        "      & (data['Rating'] <6.0)\n",
        "      & (data['Revenue (Millions)'] > data['Revenue (Millions)'].quantile(0.95))]"
      ],
      "metadata": {
        "id": "fIy9aV5d712r"
      },
      "execution_count": null,
      "outputs": []
    },
    {
      "cell_type": "markdown",
      "source": [
        "Groupby Operations"
      ],
      "metadata": {
        "id": "eG0Ghqtwkf2j"
      }
    },
    {
      "cell_type": "code",
      "source": [
        "data.groupby('Director')[['Rating']].mean().head()"
      ],
      "metadata": {
        "id": "b5Iyt6rSkfjO"
      },
      "execution_count": null,
      "outputs": []
    },
    {
      "cell_type": "markdown",
      "source": [
        "**Sorting Operations**"
      ],
      "metadata": {
        "id": "jNEwyfsElcDA"
      }
    },
    {
      "cell_type": "code",
      "source": [
        "data.groupby('Director')[['Rating']].mean().sort_values(['Rating'], ascending=False).head()"
      ],
      "metadata": {
        "id": "g4rVMUDUlbhR"
      },
      "execution_count": null,
      "outputs": []
    },
    {
      "cell_type": "markdown",
      "source": [
        "**View missing values**"
      ],
      "metadata": {
        "id": "D4FXt63Ymilc"
      }
    },
    {
      "cell_type": "code",
      "source": [
        "# Check null values review\n",
        "data.isnull().sum()"
      ],
      "metadata": {
        "id": "vwDJWbNJm1OJ"
      },
      "execution_count": null,
      "outputs": []
    },
    {
      "cell_type": "markdown",
      "source": [
        "**Deal with missing values - Deleting**"
      ],
      "metadata": {
        "id": "7fvfRswyMYFo"
      }
    },
    {
      "cell_type": "code",
      "source": [
        "# drop column\n",
        "data.drop('Metascore', axis=1, inplace = True).head()"
      ],
      "metadata": {
        "id": "O56Oi3rDyTJp"
      },
      "execution_count": null,
      "outputs": []
    },
    {
      "cell_type": "code",
      "source": [
        "# drop rows\n",
        "data.dropna()"
      ],
      "metadata": {
        "id": "Z8dHiArAMpkj"
      },
      "execution_count": null,
      "outputs": []
    },
    {
      "cell_type": "markdown",
      "source": [
        "**Deling with missing values - Filling**"
      ],
      "metadata": {
        "id": "JFb2UpeDMznA"
      }
    },
    {
      "cell_type": "code",
      "source": [
        "revenue_mean = data_indexed['Revenue (Millions)'].mean()\n",
        "print(\"The mean revenue is: \", revenue_mean)\n",
        "# fill with this mean revenue\n",
        "data_indexed['Revenue (Millions)'].fillna(revenue_mean, inplace=True)"
      ],
      "metadata": {
        "id": "ER7qxq0SM4Lk"
      },
      "execution_count": null,
      "outputs": []
    },
    {
      "cell_type": "markdown",
      "source": [
        "**apply() function**"
      ],
      "metadata": {
        "id": "0Icvbc80N2CL"
      }
    },
    {
      "cell_type": "code",
      "source": [
        "# Classify movies based on rating\n",
        "def rating_group(rating):\n",
        "  if rating >= 7.5:\n",
        "    return 'Good'\n",
        "  elif rating >=6.0:\n",
        "    return 'Average'\n",
        "  else:\n",
        "    return 'Bad'\n",
        "# creating a new variable in the dataset\n",
        "data['Rating_category'] = data['Rating'].apply(rating_group)\n",
        "\n",
        "data[['Title','Director','Rating','Rating_category']].head()"
      ],
      "metadata": {
        "id": "L08P5TKrN5CA"
      },
      "execution_count": null,
      "outputs": []
    },
    {
      "cell_type": "markdown",
      "source": [
        "**B. Data Analysis with Time Series data**"
      ],
      "metadata": {
        "id": "l077ov7rPpqH"
      }
    },
    {
      "cell_type": "markdown",
      "source": [
        "**Import libraries and read dataset**"
      ],
      "metadata": {
        "id": "ro448t7JPtr5"
      }
    },
    {
      "cell_type": "code",
      "source": [
        "import pandas as pd\n",
        "\n",
        "dataset_path = './opsd_germany_daily.csv'\n",
        "\n",
        "# Read data\n",
        "opsd_daily = pd.read_csv(dataset_path)\n",
        "\n",
        "print(opsd_daily.shape)\n",
        "print(opsd_daily.dtypes)\n",
        "opsd_daily.head(3)"
      ],
      "metadata": {
        "id": "QUh2gx6RP8eF"
      },
      "execution_count": null,
      "outputs": []
    },
    {
      "cell_type": "code",
      "source": [
        "opsd_daily = opsd_daily.set_index('Date')\n",
        "opsd_daily.head(3)"
      ],
      "metadata": {
        "id": "-61UJ85Z3EGz"
      },
      "execution_count": null,
      "outputs": []
    },
    {
      "cell_type": "code",
      "source": [
        "opsd_daily = pd.read_csv('./opsd_germany_daily.csv', index_col=0, parse_dates=True)\n",
        "\n",
        "# Add col with year, month, and weekday name\n",
        "opsd_daily['Year'] = opsd_daily.index.year\n",
        "opsd_daily['Month'] = opsd_daily.index.month\n",
        "opsd_daily['Weekday Name'] = opsd_daily.index.day_name()\n",
        "\n",
        "# Display a random sampling of 5 rows\n",
        "opsd_daily.sample(5, random_state=0)"
      ],
      "metadata": {
        "id": "7RsQt2Z336is"
      },
      "execution_count": null,
      "outputs": []
    },
    {
      "cell_type": "markdown",
      "source": [
        "**2. Time-based indexing**"
      ],
      "metadata": {
        "id": "01V_TP-u5clC"
      }
    },
    {
      "cell_type": "code",
      "source": [
        "opsd_daily.loc['2014-01-20':'2014-01-22']"
      ],
      "metadata": {
        "id": "xQfW_jcJ5hA3"
      },
      "execution_count": null,
      "outputs": []
    },
    {
      "cell_type": "code",
      "source": [
        "opsd_daily.loc['2012-02']"
      ],
      "metadata": {
        "id": "nan9I4gqEfdI"
      },
      "execution_count": null,
      "outputs": []
    },
    {
      "cell_type": "code",
      "source": [
        "import matplotlib.pyplot as plt\n",
        "# Display figures inline\n",
        "\n",
        "import seaborn as sns\n",
        "#Use seaborn\n",
        "sns.set(rc={'figure.figsize':(11, 4)})\n",
        "opsd_daily['Consumtion'].plot(linewidth=0.5)"
      ],
      "metadata": {
        "id": "3vtbvAOiEnnf"
      },
      "execution_count": null,
      "outputs": []
    },
    {
      "cell_type": "code",
      "source": [
        "cols_plot = ['Consumption','Solar','Wind']\n",
        "axes = opsd_daily[cols_plot].plot(marker='.', alpha=0.5, linestyle='None', figsize=(11,9), subplot=True)\n",
        "for ax in axes:\n",
        "  ax.set_ylabel('Daily Totals (GWh)')\n",
        "plt.show()"
      ],
      "metadata": {
        "id": "pxgBwla2FMey"
      },
      "execution_count": null,
      "outputs": []
    },
    {
      "cell_type": "markdown",
      "source": [
        "**4. Seasonality**"
      ],
      "metadata": {
        "id": "SzvMy4f5F7UO"
      }
    },
    {
      "cell_type": "code",
      "source": [
        "fig, axes = plt.subplots(3,1, figsize=(11, 10), sharex=True)\n",
        "for name, ax in zip(['Consumption', 'Solar', 'Wind'].axes):\n",
        "  sns.boxplot(data=opsd_daily, x=['Month'], y=name, ax=ax)\n",
        "  ax.set_ylabel('GWh')\n",
        "  ax.set_title(name)\n",
        "  #Remove the automatic x\n",
        "  if ax != axes[-1]:\n",
        "    ax.set_xlabel(' ')"
      ],
      "metadata": {
        "id": "roDCv7ToF-1y"
      },
      "execution_count": null,
      "outputs": []
    },
    {
      "cell_type": "markdown",
      "source": [
        "**5. Frequencies**"
      ],
      "metadata": {
        "id": "AIVHP9eDG2Y9"
      }
    },
    {
      "cell_type": "code",
      "source": [
        "pd.date_range('1998-03-10','1998-03-15', freq='D')"
      ],
      "metadata": {
        "id": "H-8Rr4CjG57N"
      },
      "execution_count": null,
      "outputs": []
    },
    {
      "cell_type": "code",
      "source": [
        "time_sample = pd.to_datetime(['2013-02-03','2013-02-06','2013-02-08'])\n",
        "# Select the specified dates and just the consumption column\n",
        "consum_sample = opsd_daily.loc[times_sample, ['Consumption']].copy()\n",
        "consum_sample"
      ],
      "metadata": {
        "id": "i9C45EZO5SG7"
      },
      "execution_count": null,
      "outputs": []
    },
    {
      "cell_type": "code",
      "source": [
        "# Convert the data to daily frequency\n",
        "consum_freq = consum_sample.asfreq('D')\n",
        "# Create a column with missing forward filled\n",
        "consum_freq['Consumption Forward Fill'] = consum_sample.asfreq('D', method='ffill')\n",
        "consum_freq"
      ],
      "metadata": {
        "id": "TlwyqyVf7ew-"
      },
      "execution_count": null,
      "outputs": []
    },
    {
      "cell_type": "code",
      "source": [
        "data_columns = ['Consumption', 'Wind', 'Solar', 'Wind+Solar']\n",
        "# Resample to weekly frequency\n",
        "opsd_weekly_mean = opsd_daily[data_columns].resample('W').mean()\n",
        "opsd_weekly_mean.head(3)"
      ],
      "metadata": {
        "id": "Zkb1us55-GrU"
      },
      "execution_count": null,
      "outputs": []
    },
    {
      "cell_type": "code",
      "source": [
        "print(opsd_daily.shape[0])\n",
        "print(opsd_weekly_mean.shape[0])"
      ],
      "metadata": {
        "id": "dABJAjPZ-nC3"
      },
      "execution_count": null,
      "outputs": []
    },
    {
      "cell_type": "code",
      "source": [
        "# Start and end of the date range to extract\n",
        "start, end = '2017-01', '2017-06'\n",
        "# Plot daily and weekly\n",
        "fig, ax = plt.subplots()\n",
        "ax.plot(opsd_daily.loc[start:end, 'Solar'], narker='.', linestyle=0.5, label='Daily')\n",
        "ax.plot(opsd_weekly_mean.loc[start:end, 'Solar'], narker='o', markersize=8, linestyle='-', label='Weekly Mean Resample')\n",
        "ax.set_ylabel('Solar Production (GVh)')\n",
        "ax.legend()\n",
        "plt.show()"
      ],
      "metadata": {
        "id": "zl6MFyjP-vOz"
      },
      "execution_count": null,
      "outputs": []
    },
    {
      "cell_type": "code",
      "source": [
        "# Compute the annual, sums, setting the value\n",
        "# fewer than 360 days of data\n",
        "opsd_annual = opsd_daily[data_columns].resample('&').sum(min_count=360)\n",
        "\n",
        "#The default index\n",
        "#\n",
        "# to the year component\n",
        "opsd_annual = opsd_annual.set_index(opsd_annual.index.year)\n",
        "opsd_annual.index.name = 'Year'\n",
        "# Compute the ratio of Wind+Solar\n",
        "opsd_annual['Wind+Solar/Consumption'] = opsd_annual['Wind+Solar'] / opsd_annual['Consumption']\n",
        "opsd_annual.tail(3)"
      ],
      "metadata": {
        "id": "p3vv7hw0AYgm"
      },
      "execution_count": null,
      "outputs": []
    },
    {
      "cell_type": "code",
      "source": [
        "# Plot\n",
        "ax = opsd_annual.loc[2012:, 'Wind+Solar/Consumption'].plot.bar(color='CO')\n",
        "ax.set_ylabel('Fraction')\n",
        "ax.set_ylim(0, 0.3)\n",
        "ax.set_title('Wind + Solar Share of Annual Electricity Consumption')\n",
        "plt.xticks(rotation=0)"
      ],
      "metadata": {
        "id": "MhvIEF1GBbOp"
      },
      "execution_count": null,
      "outputs": []
    },
    {
      "cell_type": "code",
      "source": [
        "# Compute the centered 7-day rolling mean\n",
        "opsd_7d = opsd_daily[data_columns].rolling(7, center=True).mean()\n",
        "opsd_7d.head()"
      ],
      "metadata": {
        "id": "3Zl-i7VTCLXF"
      },
      "execution_count": null,
      "outputs": []
    },
    {
      "cell_type": "markdown",
      "source": [
        "**8. Trends**"
      ],
      "metadata": {
        "id": "XpMXHndCCeBA"
      }
    },
    {
      "cell_type": "code",
      "source": [
        "opsd_365d = opsd_daily[data_columns].rolling(window=365, center=True, min_periods=360).mean()\n",
        "#Plot daily, 7-day rolling mean, and 365-day rolling mean time series\n",
        "fig, ax = plt.subplots()\n",
        "ax.plot(opsd_daily['Consumption'], marker='.', markersize=2, color='0.6', linestyle='None', label='Daily')\n",
        "ax.plot(opsd_7d['Consumption'], linewidth=2, label='7-d Rolling Mean')\n",
        "ax.plot(opsd_365d['Consumption'], color='0.2', linewidth=3, label='Trend (365-d Rolling Mean)')\n",
        "# Set x-ticks to yearly interval and add legend\n",
        "ax.xaxis.set_major_locator(ndates.YearLocator())\n",
        "ax.legend()\n",
        "ax.set_xlabel('Year')\n",
        "ax.set_ylabel('Consumption (GWh)')\n",
        "ax.set_title('Trends in Electricity Consumption')\n",
        "plt.show()"
      ],
      "metadata": {
        "id": "el4K7rtnCgp1"
      },
      "execution_count": null,
      "outputs": []
    },
    {
      "cell_type": "code",
      "source": [
        "# Plot 365-day rolling mean time series of wind and solar power\n",
        "fig, ax = plt.subplots()\n",
        "for nn in ['Wind', 'Solar', 'Wind+Solar']:\n",
        "  ax.plot(opsd_365d[nn], label=nn)\n",
        "  ax.xaxis.set_major_locator(ndates.YearLocator())\n",
        "  ax.set_ylim(0, 400)\n",
        "  ax.legend()\n",
        "  ax.set_ylabel('Production (GWh)')\n",
        "  ax.set_title('Trends in Electricity Production (365-d Rolling Means)')\n",
        "plt.show()"
      ],
      "metadata": {
        "id": "3Exn84bHEYpM"
      },
      "execution_count": null,
      "outputs": []
    }
  ]
}